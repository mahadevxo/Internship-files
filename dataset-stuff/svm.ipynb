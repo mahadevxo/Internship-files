{
 "cells": [
  {
   "cell_type": "code",
   "execution_count": 230,
   "metadata": {},
   "outputs": [],
   "source": [
    "import pandas as pd\n",
    "import numpy as np\n",
    "import matplotlib.pyplot as plt\n",
    "from sklearn.model_selection import train_test_split\n",
    "from sklearn.svm import SVC\n",
    "from sklearn.metrics import accuracy_score\n",
    "from sklearn.metrics import confusion_matrix, classification_report\n",
    "from sklearn.preprocessing import StandardScaler"
   ]
  },
  {
   "cell_type": "code",
   "execution_count": 231,
   "metadata": {},
   "outputs": [],
   "source": [
    "dataset = pd.read_csv(\"breast-cancer-wisconsin.data.csv\")\n",
    "dataset.replace('?', np.nan, inplace=True)\n",
    "dataset.dropna(axis = 1,inplace=True)"
   ]
  },
  {
   "cell_type": "code",
   "execution_count": 232,
   "metadata": {
    "slideshow": {
     "slide_type": "subslide"
    },
    "tags": [
     "tf is this for"
    ]
   },
   "outputs": [
    {
     "data": {
      "text/plain": [
       "[True, True, True, True, True, True, True, True, True, True]"
      ]
     },
     "execution_count": 232,
     "metadata": {},
     "output_type": "execute_result"
    }
   ],
   "source": [
    "datatype = dataset.apply(lambda s: pd.to_numeric(s, errors='coerce').notnull().all())\n",
    "newdata = []\n",
    "for data in datatype:\n",
    "    newdata.append(datatype[1])\n",
    "datatype = newdata\n",
    "datatype"
   ]
  },
  {
   "cell_type": "code",
   "execution_count": 233,
   "metadata": {},
   "outputs": [],
   "source": [
    "# datatype = dataset.apply(lambda s: pd.to_numeric(s, errors='coerce').notnull().all())\n",
    "# newdata = []\n",
    "# for data in datatype:\n",
    "#     newdata.append(datatype[1])\n",
    "# datatype = newdata\n",
    "# datatype"
   ]
  },
  {
   "attachments": {},
   "cell_type": "markdown",
   "metadata": {},
   "source": [
    "> Training\n"
   ]
  },
  {
   "cell_type": "code",
   "execution_count": 234,
   "metadata": {},
   "outputs": [],
   "source": [
    "# sc = StandardScaler()\n",
    "# param = {'kernel': ['poly', 'linear'], 'C': [1, 10], 'degree': [1, 2, 3, 4, 5, 6, 7, 8, 9, 10], 'gamma': ['scale', 'auto']}\n",
    "# clf = GridSearchCV(SVC(probability=True), param, cv=5, refit=True)\n",
    "# 61.5%, worse then svm"
   ]
  },
  {
   "cell_type": "code",
   "execution_count": 235,
   "metadata": {},
   "outputs": [],
   "source": [
    "x = dataset.iloc[:, :-1].values\n",
    "y =dataset.iloc[:,dataset.shape[1]-1].values"
   ]
  },
  {
   "cell_type": "code",
   "execution_count": 236,
   "metadata": {},
   "outputs": [],
   "source": [
    "xtrain, xtest, ytrain, ytest = train_test_split(x, y, test_size=0.25, random_state=0)"
   ]
  },
  {
   "cell_type": "code",
   "execution_count": 237,
   "metadata": {},
   "outputs": [],
   "source": [
    "clf = SVC(kernel='poly', degree = 4, probability=True)"
   ]
  },
  {
   "cell_type": "code",
   "execution_count": 238,
   "metadata": {},
   "outputs": [],
   "source": [
    "# x = dataset.iloc[:, :-1]\n",
    "# y = dataset.iloc[:,dataset.shape[1]-1]\n",
    "# sc = StandardScaler()\n",
    "# xtrain = sc.fit_transform(xtrain)\n",
    "rs = StandardScaler()\n",
    "xtrain = rs.fit_transform(xtrain)"
   ]
  },
  {
   "cell_type": "code",
   "execution_count": 239,
   "metadata": {},
   "outputs": [
    {
     "data": {
      "text/plain": [
       "SVC(degree=4, kernel='poly', probability=True)"
      ]
     },
     "execution_count": 239,
     "metadata": {},
     "output_type": "execute_result"
    }
   ],
   "source": [
    "clf.fit(xtrain, ytrain)"
   ]
  },
  {
   "attachments": {},
   "cell_type": "markdown",
   "metadata": {},
   "source": [
    "> Testing\n"
   ]
  },
  {
   "cell_type": "code",
   "execution_count": 240,
   "metadata": {},
   "outputs": [
    {
     "name": "stdout",
     "output_type": "stream",
     "text": [
      "[2 2 2 2 2 2 2 2 2 2 2 2 2 2 2 2 2 2 2 2 2 2 2 2 2 2 2 2 2 2 2 2 2 2 2 2 2\n",
      " 2 2 2 2 2 2 2 2 2 2 2 2 2 2 2 2 2 2 2 2 2 2 2 2 2 2 2 2 2 2 2 2 2 2 2 2 2\n",
      " 2 2 2 2 2 2 2 2 2 2 2 2 2 2 2 2 2 2 2 2 2 2 2 2 2 2 2 2 2 2 2 2 2 2 2 2 2\n",
      " 2 2 2 2 2 2 2 2 2 2 2 2 2 2 2 2 2 2 2 2 2 2 2 2 2 2 2 2 2 2 2 2 2 2 2 2 2\n",
      " 2 2 2 2 2 2 2 2 2 2 2 2 2 2 2 2 2 2 2 2 2 2 2 2 2 2 2]\n",
      "[[4 2 4 4 2 2 4 2 2 2 2 2 2 2 2 2 2 2 4 4 2 4 4 4 2 4 4 4 2 2 4 2 2 2 2 2\n",
      "  2 4 2 2 2 2 2 4 4 4 2 4 2 4 2 2 2 4 2 2 2 2 2 4 4 4 4 4 2 4 4 2 4 4 2 2\n",
      "  4 2 2 2 2 2 4 2 4 2 2 2 2 2 4 2 2 4 4 4 2 4 2 4 2 2 2 2 4 4 4 4 2 2 2 2\n",
      "  2 2 2 4 2 2 4 2 4 2 2 4 2 2 4 4 4 2 2 4 2 2 4 4 2 4 2 2 2 2 4 4 4 2 4 4\n",
      "  2 2 2 4 2 2 2 4 2 4 2 2 2 2 2 4 4 2 2 2 4 2 2 2 4 2 2 2 2 4 4]]\n"
     ]
    }
   ],
   "source": [
    "ypred = clf.predict(xtest)\n",
    "print(ypred)\n",
    "print(np.matrix(ytest))"
   ]
  },
  {
   "cell_type": "code",
   "execution_count": 245,
   "metadata": {},
   "outputs": [
    {
     "name": "stdout",
     "output_type": "stream",
     "text": [
      "              precision    recall  f1-score   support\n",
      "\n",
      "      Benign       0.62      1.00      0.76       108\n",
      "   Malignant       1.00      0.00      0.00        67\n",
      "\n",
      "    accuracy                           0.62       175\n",
      "   macro avg       0.81      0.50      0.38       175\n",
      "weighted avg       0.76      0.62      0.47       175\n",
      "\n"
     ]
    }
   ],
   "source": [
    "print(classification_report(ytest, ypred, target_names=['Benign', 'Malignant'], zero_division=1))"
   ]
  },
  {
   "cell_type": "code",
   "execution_count": 242,
   "metadata": {},
   "outputs": [
    {
     "name": "stdout",
     "output_type": "stream",
     "text": [
      "[[108   0]\n",
      " [ 67   0]]\n"
     ]
    }
   ],
   "source": [
    "cm = confusion_matrix(ytest, ypred)\n",
    "print(cm)"
   ]
  },
  {
   "cell_type": "code",
   "execution_count": null,
   "metadata": {},
   "outputs": [],
   "source": []
  }
 ],
 "metadata": {
  "kernelspec": {
   "display_name": "base",
   "language": "python",
   "name": "python3"
  },
  "language_info": {
   "codemirror_mode": {
    "name": "ipython",
    "version": 3
   },
   "file_extension": ".py",
   "mimetype": "text/x-python",
   "name": "python",
   "nbconvert_exporter": "python",
   "pygments_lexer": "ipython3",
   "version": "3.8.8"
  },
  "orig_nbformat": 4,
  "vscode": {
   "interpreter": {
    "hash": "786a8f24896a62ef3d17c3b642ccc3bdf5d973e95fa787b24a7054a58848c2af"
   }
  }
 },
 "nbformat": 4,
 "nbformat_minor": 2
}
