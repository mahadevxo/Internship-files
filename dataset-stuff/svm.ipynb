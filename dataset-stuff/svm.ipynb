{
 "cells": [
  {
   "cell_type": "code",
   "execution_count": 166,
   "metadata": {},
   "outputs": [],
   "source": [
    "import matplotlib.pyplot as plt\n",
    "import pandas as pd\n",
    "import numpy as np\n",
    "from sklearn.model_selection import train_test_split\n",
    "from sklearn.svm import SVC\n",
    "from sklearn.metrics import accuracy_score\n",
    "from sklearn.metrics import confusion_matrix\n",
    "from sklearn.preprocessing import StandardScaler\n",
    "from sklearn.preprocessing import LabelEncoder\n",
    "from sklearn.model_selection import GridSearchCV"
   ]
  },
  {
   "cell_type": "code",
   "execution_count": 167,
   "metadata": {
    "tags": []
   },
   "outputs": [
    {
     "data": {
      "text/html": [
       "<div>\n",
       "<style scoped>\n",
       "    .dataframe tbody tr th:only-of-type {\n",
       "        vertical-align: middle;\n",
       "    }\n",
       "\n",
       "    .dataframe tbody tr th {\n",
       "        vertical-align: top;\n",
       "    }\n",
       "\n",
       "    .dataframe thead th {\n",
       "        text-align: right;\n",
       "    }\n",
       "</style>\n",
       "<table border=\"1\" class=\"dataframe\">\n",
       "  <thead>\n",
       "    <tr style=\"text-align: right;\">\n",
       "      <th></th>\n",
       "      <th>1000025</th>\n",
       "      <th>5</th>\n",
       "      <th>1</th>\n",
       "      <th>1.1</th>\n",
       "      <th>1.2</th>\n",
       "      <th>2</th>\n",
       "      <th>3</th>\n",
       "      <th>1.4</th>\n",
       "      <th>1.5</th>\n",
       "      <th>2.1</th>\n",
       "    </tr>\n",
       "  </thead>\n",
       "  <tbody>\n",
       "    <tr>\n",
       "      <th>0</th>\n",
       "      <td>1002945</td>\n",
       "      <td>5</td>\n",
       "      <td>4</td>\n",
       "      <td>4</td>\n",
       "      <td>5</td>\n",
       "      <td>7</td>\n",
       "      <td>3</td>\n",
       "      <td>2</td>\n",
       "      <td>1</td>\n",
       "      <td>2</td>\n",
       "    </tr>\n",
       "    <tr>\n",
       "      <th>1</th>\n",
       "      <td>1015425</td>\n",
       "      <td>3</td>\n",
       "      <td>1</td>\n",
       "      <td>1</td>\n",
       "      <td>1</td>\n",
       "      <td>2</td>\n",
       "      <td>3</td>\n",
       "      <td>1</td>\n",
       "      <td>1</td>\n",
       "      <td>2</td>\n",
       "    </tr>\n",
       "    <tr>\n",
       "      <th>2</th>\n",
       "      <td>1016277</td>\n",
       "      <td>6</td>\n",
       "      <td>8</td>\n",
       "      <td>8</td>\n",
       "      <td>1</td>\n",
       "      <td>3</td>\n",
       "      <td>3</td>\n",
       "      <td>7</td>\n",
       "      <td>1</td>\n",
       "      <td>2</td>\n",
       "    </tr>\n",
       "    <tr>\n",
       "      <th>3</th>\n",
       "      <td>1017023</td>\n",
       "      <td>4</td>\n",
       "      <td>1</td>\n",
       "      <td>1</td>\n",
       "      <td>3</td>\n",
       "      <td>2</td>\n",
       "      <td>3</td>\n",
       "      <td>1</td>\n",
       "      <td>1</td>\n",
       "      <td>2</td>\n",
       "    </tr>\n",
       "    <tr>\n",
       "      <th>4</th>\n",
       "      <td>1017122</td>\n",
       "      <td>8</td>\n",
       "      <td>10</td>\n",
       "      <td>10</td>\n",
       "      <td>8</td>\n",
       "      <td>7</td>\n",
       "      <td>9</td>\n",
       "      <td>7</td>\n",
       "      <td>1</td>\n",
       "      <td>4</td>\n",
       "    </tr>\n",
       "    <tr>\n",
       "      <th>...</th>\n",
       "      <td>...</td>\n",
       "      <td>...</td>\n",
       "      <td>...</td>\n",
       "      <td>...</td>\n",
       "      <td>...</td>\n",
       "      <td>...</td>\n",
       "      <td>...</td>\n",
       "      <td>...</td>\n",
       "      <td>...</td>\n",
       "      <td>...</td>\n",
       "    </tr>\n",
       "    <tr>\n",
       "      <th>693</th>\n",
       "      <td>776715</td>\n",
       "      <td>3</td>\n",
       "      <td>1</td>\n",
       "      <td>1</td>\n",
       "      <td>1</td>\n",
       "      <td>3</td>\n",
       "      <td>1</td>\n",
       "      <td>1</td>\n",
       "      <td>1</td>\n",
       "      <td>2</td>\n",
       "    </tr>\n",
       "    <tr>\n",
       "      <th>694</th>\n",
       "      <td>841769</td>\n",
       "      <td>2</td>\n",
       "      <td>1</td>\n",
       "      <td>1</td>\n",
       "      <td>1</td>\n",
       "      <td>2</td>\n",
       "      <td>1</td>\n",
       "      <td>1</td>\n",
       "      <td>1</td>\n",
       "      <td>2</td>\n",
       "    </tr>\n",
       "    <tr>\n",
       "      <th>695</th>\n",
       "      <td>888820</td>\n",
       "      <td>5</td>\n",
       "      <td>10</td>\n",
       "      <td>10</td>\n",
       "      <td>3</td>\n",
       "      <td>7</td>\n",
       "      <td>8</td>\n",
       "      <td>10</td>\n",
       "      <td>2</td>\n",
       "      <td>4</td>\n",
       "    </tr>\n",
       "    <tr>\n",
       "      <th>696</th>\n",
       "      <td>897471</td>\n",
       "      <td>4</td>\n",
       "      <td>8</td>\n",
       "      <td>6</td>\n",
       "      <td>4</td>\n",
       "      <td>3</td>\n",
       "      <td>10</td>\n",
       "      <td>6</td>\n",
       "      <td>1</td>\n",
       "      <td>4</td>\n",
       "    </tr>\n",
       "    <tr>\n",
       "      <th>697</th>\n",
       "      <td>897471</td>\n",
       "      <td>4</td>\n",
       "      <td>8</td>\n",
       "      <td>8</td>\n",
       "      <td>5</td>\n",
       "      <td>4</td>\n",
       "      <td>10</td>\n",
       "      <td>4</td>\n",
       "      <td>1</td>\n",
       "      <td>4</td>\n",
       "    </tr>\n",
       "  </tbody>\n",
       "</table>\n",
       "<p>698 rows × 10 columns</p>\n",
       "</div>"
      ],
      "text/plain": [
       "     1000025  5   1  1.1  1.2  2   3  1.4  1.5  2.1\n",
       "0    1002945  5   4    4    5  7   3    2    1    2\n",
       "1    1015425  3   1    1    1  2   3    1    1    2\n",
       "2    1016277  6   8    8    1  3   3    7    1    2\n",
       "3    1017023  4   1    1    3  2   3    1    1    2\n",
       "4    1017122  8  10   10    8  7   9    7    1    4\n",
       "..       ... ..  ..  ...  ... ..  ..  ...  ...  ...\n",
       "693   776715  3   1    1    1  3   1    1    1    2\n",
       "694   841769  2   1    1    1  2   1    1    1    2\n",
       "695   888820  5  10   10    3  7   8   10    2    4\n",
       "696   897471  4   8    6    4  3  10    6    1    4\n",
       "697   897471  4   8    8    5  4  10    4    1    4\n",
       "\n",
       "[698 rows x 10 columns]"
      ]
     },
     "execution_count": 167,
     "metadata": {},
     "output_type": "execute_result"
    }
   ],
   "source": [
    "dataset = pd.read_csv(\"datasets/breast-cancer-wisconsin.data\")\n",
    "dataset.replace('?', np.nan, inplace=True)\n",
    "dataset.dropna(axis = 1 ,inplace=True)\n",
    "dataset"
   ]
  },
  {
   "cell_type": "code",
   "execution_count": 168,
   "metadata": {},
   "outputs": [],
   "source": [
    "datatype = dataset.apply(lambda s: pd.to_numeric(s, errors='coerce').notnull().all())\n",
    "newdata = []\n",
    "for data in datatype:\n",
    "    newdata.append(datatype[1])\n",
    "datatype = newdata\n",
    "le = LabelEncoder()\n",
    "for i in range(len(datatype)):\n",
    "    if datatype[i] == False:\n",
    "        dataset.iloc[:,i] = le.fit_transform(dataset.iloc[:,i])  "
   ]
  },
  {
   "cell_type": "code",
   "execution_count": 169,
   "metadata": {},
   "outputs": [],
   "source": [
    "xtrain, xtest , ytrain, ytest = train_test_split(dataset.iloc[:, :-1], dataset.iloc[:,dataset.shape[1]-1], test_size=0.2, train_size=0.8, random_state=0)\n",
    "sc = StandardScaler()\n",
    "xtrain = sc.fit_transform(xtrain)\n",
    "xtest = sc.transform(xtest)"
   ]
  },
  {
   "cell_type": "code",
   "execution_count": 170,
   "metadata": {},
   "outputs": [
    {
     "data": {
      "text/plain": [
       "SVC(cache_size=12000, degree=5, gamma='auto', probability=True)"
      ]
     },
     "execution_count": 170,
     "metadata": {},
     "output_type": "execute_result"
    }
   ],
   "source": [
    "svcmodel = SVC(kernel='rbf', degree=5, C=1.0, gamma='auto', cache_size=12000, probability=True)\n",
    "svcmodel.fit(xtrain, ytrain)"
   ]
  },
  {
   "cell_type": "code",
   "execution_count": 171,
   "metadata": {},
   "outputs": [],
   "source": [
    "ypred = svcmodel.predict(xtest)"
   ]
  },
  {
   "cell_type": "code",
   "execution_count": 172,
   "metadata": {},
   "outputs": [
    {
     "data": {
      "text/plain": [
       "array([4, 2, 4, 4, 2, 2, 4, 2, 2, 2, 2, 2, 2, 2, 2, 2, 2, 2, 4, 4, 2, 4,\n",
       "       4, 4, 2, 4, 4, 4, 4, 2, 4, 2, 2, 2, 2, 2, 2, 4, 2, 2, 2, 2, 2, 4,\n",
       "       4, 4, 2, 4, 2, 4, 2, 2, 2, 4, 2, 2, 2, 2, 2, 4, 4, 2, 4, 4, 2, 4,\n",
       "       4, 2, 4, 4, 2, 2, 4, 2, 2, 2, 4, 2, 4, 2, 4, 2, 2, 2, 2, 2, 4, 2,\n",
       "       2, 4, 4, 4, 2, 4, 2, 4, 2, 2, 2, 2, 4, 4, 4, 4, 2, 2, 4, 2, 2, 2,\n",
       "       2, 4, 2, 2, 2, 2, 4, 2, 2, 4, 2, 2, 4, 4, 4, 2, 2, 4, 2, 2, 4, 4,\n",
       "       2, 4, 2, 2, 2, 2, 4, 4])"
      ]
     },
     "execution_count": 172,
     "metadata": {},
     "output_type": "execute_result"
    }
   ],
   "source": [
    "ypred"
   ]
  },
  {
   "cell_type": "code",
   "execution_count": 173,
   "metadata": {},
   "outputs": [
    {
     "data": {
      "text/plain": [
       "array([[4, 2, 4, 4, 2, 2, 4, 2, 2, 2, 2, 2, 2, 2, 2, 2, 2, 2, 4, 4, 2, 4,\n",
       "        4, 4, 2, 4, 4, 4, 2, 2, 4, 2, 2, 2, 2, 2, 2, 4, 2, 2, 2, 2, 2, 4,\n",
       "        4, 4, 2, 4, 2, 4, 2, 2, 2, 4, 2, 2, 2, 2, 2, 4, 4, 4, 4, 4, 2, 4,\n",
       "        4, 2, 4, 4, 2, 2, 4, 2, 2, 2, 2, 2, 4, 2, 4, 2, 2, 2, 2, 2, 4, 2,\n",
       "        2, 4, 4, 4, 2, 4, 2, 4, 2, 2, 2, 2, 4, 4, 4, 4, 2, 2, 2, 2, 2, 2,\n",
       "        2, 4, 2, 2, 4, 2, 4, 2, 2, 4, 2, 2, 4, 4, 4, 2, 2, 4, 2, 2, 4, 4,\n",
       "        2, 4, 2, 2, 2, 2, 4, 4]])"
      ]
     },
     "execution_count": 173,
     "metadata": {},
     "output_type": "execute_result"
    }
   ],
   "source": [
    "ytest.values.reshape(1,-1)  "
   ]
  },
  {
   "cell_type": "code",
   "execution_count": 174,
   "metadata": {},
   "outputs": [],
   "source": [
    "cm = confusion_matrix(ytest, ypred)\n",
    "accuracy = accuracy_score(ytest, ypred)"
   ]
  },
  {
   "cell_type": "code",
   "execution_count": 175,
   "metadata": {},
   "outputs": [
    {
     "name": "stdout",
     "output_type": "stream",
     "text": [
      "[[82  3]\n",
      " [ 2 53]]\n"
     ]
    }
   ],
   "source": [
    "print(cm)"
   ]
  },
  {
   "cell_type": "code",
   "execution_count": 176,
   "metadata": {},
   "outputs": [
    {
     "name": "stdout",
     "output_type": "stream",
     "text": [
      "96.42857142857143 %\n"
     ]
    }
   ],
   "source": [
    "print(accuracy*100, \"%\")"
   ]
  },
  {
   "cell_type": "code",
   "execution_count": 177,
   "metadata": {},
   "outputs": [],
   "source": [
    "yprobofTrue = svcmodel.predict_proba(xtest)"
   ]
  },
  {
   "cell_type": "code",
   "execution_count": 178,
   "metadata": {},
   "outputs": [],
   "source": [
    "yt = np.empty((0,1))\n",
    "for probs in yprobofTrue:\n",
    "    yt = np.append(yt, probs[1])\n",
    "\n",
    "yprobofTrue = yt"
   ]
  },
  {
   "cell_type": "code",
   "execution_count": 179,
   "metadata": {},
   "outputs": [
    {
     "data": {
      "text/plain": [
       "(140,)"
      ]
     },
     "execution_count": 179,
     "metadata": {},
     "output_type": "execute_result"
    }
   ],
   "source": [
    "ypred.shape"
   ]
  },
  {
   "cell_type": "code",
   "execution_count": 180,
   "metadata": {},
   "outputs": [
    {
     "data": {
      "image/png": "[encoded data removed]",
      "text/plain": [
       "<Figure size 432x288 with 1 Axes>"
      ]
     },
     "metadata": {
      "needs_background": "light"
     },
     "output_type": "display_data"
    }
   ],
   "source": [
    "plt.plot(ytest, yprobofTrue, 'r*')\n",
    "plt.xlabel('Predicted')\n",
    "plt.ylabel('2 <-- Probability of 4 -->')\n",
    "plt.show()"
   ]
  },
  {
   "cell_type": "code",
   "execution_count": 181,
   "metadata": {},
   "outputs": [],
   "source": [
    "param = {'kernel': ('linear', 'rbf', 'poly', 'sigmoid'), 'C': [1, 10], 'degree': [1, 2, 3, 4, 5, 6, 7, 8, 9, 10], 'gamma': ('auto', 'scale')}"
   ]
  },
  {
   "cell_type": "code",
   "execution_count": 202,
   "metadata": {},
   "outputs": [
    {
     "data": {
      "text/plain": [
       "GridSearchCV(cv=5, estimator=SVC(probability=True),\n",
       "             param_grid={'C': [1, 10],\n",
       "                         'degree': [1, 2, 3, 4, 5, 6, 7, 8, 9, 10],\n",
       "                         'gamma': ('auto', 'scale'),\n",
       "                         'kernel': ('linear', 'rbf', 'poly', 'sigmoid')})"
      ]
     },
     "execution_count": 202,
     "metadata": {},
     "output_type": "execute_result"
    }
   ],
   "source": [
    "clf = GridSearchCV(SVC(probability=True), param, cv=5, refit=True)\n",
    "clf.fit(xtrain, ytrain)"
   ]
  },
  {
   "cell_type": "code",
   "execution_count": 203,
   "metadata": {},
   "outputs": [
    {
     "data": {
      "text/plain": [
       "['mean_fit_time',\n",
       " 'mean_score_time',\n",
       " 'mean_test_score',\n",
       " 'param_C',\n",
       " 'param_degree',\n",
       " 'param_gamma',\n",
       " 'param_kernel',\n",
       " 'params',\n",
       " 'rank_test_score',\n",
       " 'split0_test_score',\n",
       " 'split1_test_score',\n",
       " 'split2_test_score',\n",
       " 'split3_test_score',\n",
       " 'split4_test_score',\n",
       " 'std_fit_time',\n",
       " 'std_score_time',\n",
       " 'std_test_score']"
      ]
     },
     "execution_count": 203,
     "metadata": {},
     "output_type": "execute_result"
    }
   ],
   "source": [
    "sorted(clf.cv_results_.keys())"
   ]
  },
  {
   "cell_type": "code",
   "execution_count": 204,
   "metadata": {},
   "outputs": [],
   "source": [
    "ypred = clf.predict(xtest)"
   ]
  },
  {
   "cell_type": "code",
   "execution_count": 205,
   "metadata": {},
   "outputs": [],
   "source": [
    "accuracy = accuracy_score(ytest, ypred)\n",
    "yprobofTrue = clf.predict_proba(xtest)"
   ]
  },
  {
   "cell_type": "code",
   "execution_count": 206,
   "metadata": {},
   "outputs": [
    {
     "data": {
      "text/plain": [
       "97.85714285714285"
      ]
     },
     "execution_count": 206,
     "metadata": {},
     "output_type": "execute_result"
    }
   ],
   "source": [
    "accuracy*100"
   ]
  },
  {
   "cell_type": "code",
   "execution_count": 207,
   "metadata": {},
   "outputs": [
    {
     "data": {
      "image/png": "[encoded data removed]",
      "text/plain": [
       "<Figure size 432x288 with 1 Axes>"
      ]
     },
     "metadata": {
      "needs_background": "light"
     },
     "output_type": "display_data"
    }
   ],
   "source": [
    "plt.plot(ytest, yprobofTrue, 'r*')\n",
    "plt.xlabel('Predicted')\n",
    "plt.ylabel('2 <-- Probability of 4 -->')\n",
    "plt.show()"
   ]
  },
  {
   "cell_type": "code",
   "execution_count": 209,
   "metadata": {},
   "outputs": [
    {
     "data": {
      "text/plain": [
       "array([[-3.46659756e-01, -4.97748451e-01,  2.79856634e-01,\n",
       "         6.10533918e-01,  7.51504525e-02,  1.65950384e+00,\n",
       "         2.44348381e-01,  1.01395949e+00, -3.33600749e-01],\n",
       "       [ 2.23705818e-01,  1.28953363e+00,  2.79856634e-01,\n",
       "         9.43552418e-01,  7.51504525e-02, -1.07677730e-01,\n",
       "         2.44348381e-01,  4.45887381e-02, -3.33600749e-01],\n",
       "       [-1.35335705e+00, -1.40292035e-01, -6.80143376e-01,\n",
       "        -7.21540084e-01, -6.29621858e-01, -5.49473124e-01,\n",
       "        -1.71341852e-01,  1.01395949e+00, -3.33600749e-01],\n",
       "       [-9.44445185e-02,  5.74620799e-01, -4.01433696e-02,\n",
       "        -5.55030834e-02,  7.79922763e-01, -1.07677730e-01,\n",
       "        -1.71341852e-01,  6.90835904e-01,  8.59663468e-01],\n",
       "       [ 8.86864684e-02,  9.32077216e-01, -6.80143376e-01,\n",
       "        -3.88521584e-01,  7.51504525e-02, -5.49473124e-01,\n",
       "        -5.87032085e-01, -6.01658428e-01, -3.33600749e-01],\n",
       "       [-4.44879223e-01,  2.17164382e-01, -6.80143376e-01,\n",
       "        -7.21540084e-01,  1.13230892e+00, -1.07677730e-01,\n",
       "        -5.87032085e-01, -6.01658428e-01, -3.33600749e-01],\n",
       "       [ 6.50552295e-02, -1.21266128e+00, -4.01433696e-02,\n",
       "        -5.55030834e-02, -2.77235703e-01, -5.49473124e-01,\n",
       "         1.49141908e+00, -2.78534845e-01, -3.33600749e-01],\n",
       "       [ 2.12236976e-01,  5.74620799e-01, -6.80143376e-01,\n",
       "        -5.55030834e-02, -6.29621858e-01, -5.49473124e-01,\n",
       "        -1.71341852e-01, -6.01658428e-01, -3.33600749e-01],\n",
       "       [ 2.30133053e-01, -4.97748451e-01, -4.01433696e-02,\n",
       "        -3.88521584e-01, -6.29621858e-01, -1.07677730e-01,\n",
       "        -1.71341852e-01,  1.01395949e+00, -3.33600749e-01],\n",
       "       [-1.15307467e-01,  2.17164382e-01,  2.79856634e-01,\n",
       "         2.77515417e-01,  7.79922763e-01,  1.65950384e+00,\n",
       "        -1.71341852e-01, -2.78534845e-01, -3.33600749e-01],\n",
       "       [-6.88386499e-01,  2.17164382e-01, -4.01433696e-02,\n",
       "         2.77515417e-01,  7.51504525e-02,  3.34117663e-01,\n",
       "         2.44348381e-01,  1.33708307e+00, -3.33600749e-01],\n",
       "       [ 2.02974763e-01,  2.17164382e-01, -6.80143376e-01,\n",
       "        -7.21540084e-01,  1.13230892e+00, -1.07677730e-01,\n",
       "        -1.00272232e+00, -6.01658428e-01, -3.33600749e-01],\n",
       "       [ 3.28512571e-01,  2.17164382e-01, -4.01433696e-02,\n",
       "        -3.88521584e-01,  4.27536608e-01, -5.49473124e-01,\n",
       "        -1.00272232e+00, -6.01658428e-01, -3.33600749e-01],\n",
       "       [-7.06517466e-02, -8.55204868e-01, -6.80143376e-01,\n",
       "        -7.21540084e-01, -6.29621858e-01, -5.49473124e-01,\n",
       "        -1.00272232e+00, -6.01658428e-01,  2.05292768e+00],\n",
       "       [-6.31618768e-01, -1.21266128e+00, -6.80143376e-01,\n",
       "        -7.21540084e-01, -6.29621858e-01, -5.49473124e-01,\n",
       "        -1.00272232e+00, -6.01658428e-01,  3.84282401e+00],\n",
       "       [ 5.01156510e-02,  2.17164382e-01, -4.01433696e-02,\n",
       "        -5.55030834e-02, -2.77235703e-01, -1.07677730e-01,\n",
       "        -1.71341852e-01, -6.01658428e-01, -3.33600749e-01],\n",
       "       [ 1.50642520e-01,  2.17164382e-01, -6.80143376e-01,\n",
       "         2.77515417e-01, -6.29621858e-01, -5.49473124e-01,\n",
       "        -1.71341852e-01, -2.78534845e-01, -3.33600749e-01],\n",
       "       [ 2.31174125e-02,  5.74620799e-01, -4.01433696e-02,\n",
       "        -5.55030834e-02,  7.51504525e-02, -1.07677730e-01,\n",
       "         1.07572885e+00, -6.01658428e-01, -3.33600749e-01],\n",
       "       [-5.85039471e-01,  2.17164382e-01, -4.01433696e-02,\n",
       "         2.77515417e-01, -6.29621858e-01,  3.34117663e-01,\n",
       "        -1.71341852e-01, -6.01658428e-01, -3.33600749e-01],\n",
       "       [ 1.96540119e-01,  1.28953363e+00,  2.79856634e-01,\n",
       "         2.77515417e-01,  7.79922763e-01,  3.34117663e-01,\n",
       "         1.49141908e+00,  1.66020665e+00,  2.63031360e-01],\n",
       "       [ 3.15191286e-01,  5.74620799e-01,  1.87985665e+00,\n",
       "         1.27657092e+00,  7.79922763e-01,  7.75913057e-01,\n",
       "         2.44348381e-01, -2.78534845e-01, -3.33600749e-01],\n",
       "       [ 2.34859004e-01, -4.97748451e-01, -4.01433696e-02,\n",
       "        -3.88521584e-01,  1.13230892e+00, -1.07677730e-01,\n",
       "        -1.71341852e-01,  6.90835904e-01, -3.33600749e-01],\n",
       "       [ 2.37813279e-02,  5.74620799e-01,  9.19856640e-01,\n",
       "         9.43552418e-01,  2.18946739e+00,  1.21770845e+00,\n",
       "         1.49141908e+00,  1.66020665e+00, -3.33600749e-01],\n",
       "       [ 1.83371053e+01, -1.21266128e+00, -6.80143376e-01,\n",
       "        -5.55030834e-02, -6.29621858e-01, -5.49473124e-01,\n",
       "        -5.87032085e-01, -6.01658428e-01, -3.33600749e-01],\n",
       "       [-9.55500562e-02,  5.74620799e-01,  1.55985665e+00,\n",
       "         1.60958942e+00, -6.29621858e-01, -1.07677730e-01,\n",
       "        -1.71341852e-01,  1.33708307e+00, -3.33600749e-01],\n",
       "       [ 2.89061472e-01, -1.40292035e-01, -3.60143373e-01,\n",
       "         2.77515417e-01,  7.51504525e-02, -5.49473124e-01,\n",
       "        -5.87032085e-01, -6.01658428e-01, -3.33600749e-01],\n",
       "       [-6.75106709e-01,  1.28953363e+00, -3.60143373e-01,\n",
       "        -7.21540084e-01, -6.29621858e-01,  7.75913057e-01,\n",
       "        -1.00272232e+00, -6.01658428e-01, -3.33600749e-01],\n",
       "       [ 1.06003450e+01, -1.40292035e-01, -6.80143376e-01,\n",
       "        -7.21540084e-01, -6.29621858e-01, -9.91268518e-01,\n",
       "        -5.87032085e-01, -6.01658428e-01, -3.33600749e-01],\n",
       "       [-1.51028709e+00,  2.17164382e-01,  2.79856634e-01,\n",
       "        -5.55030834e-02, -6.29621858e-01, -5.49473124e-01,\n",
       "        -5.87032085e-01,  4.45887381e-02, -3.33600749e-01],\n",
       "       [ 3.75118543e-01,  2.17164382e-01,  2.79856634e-01,\n",
       "         6.10533918e-01, -6.29621858e-01,  2.10129924e+00,\n",
       "        -1.71341852e-01,  1.01395949e+00, -3.33600749e-01],\n",
       "       [ 1.53867993e-03,  5.74620799e-01, -3.60143373e-01,\n",
       "        -7.21540084e-01, -6.29621858e-01, -9.91268518e-01,\n",
       "         1.49141908e+00, -6.01658428e-01, -3.33600749e-01],\n",
       "       [ 3.45635067e-01, -1.40292035e-01, -4.01433696e-02,\n",
       "        -7.21540084e-01, -6.29621858e-01, -5.49473124e-01,\n",
       "         2.44348381e-01,  1.66020665e+00, -3.33600749e-01],\n",
       "       [ 9.82406261e-02, -4.97748451e-01, -6.80143376e-01,\n",
       "        -7.21540084e-01, -6.29621858e-01, -5.49473124e-01,\n",
       "         1.49141908e+00, -6.01658428e-01, -3.33600749e-01],\n",
       "       [ 1.43392801e-01, -1.21266128e+00, -6.80143376e-01,\n",
       "        -7.21540084e-01, -6.29621858e-01,  2.98489003e+00,\n",
       "        -1.00272232e+00, -6.01658428e-01, -3.33600749e-01],\n",
       "       [ 1.58130834e-01, -4.97748451e-01, -6.80143376e-01,\n",
       "        -7.21540084e-01,  7.51504525e-02,  2.10129924e+00,\n",
       "         6.60038614e-01,  1.66020665e+00, -3.33600749e-01],\n",
       "       [ 1.37220463e-01,  1.28953363e+00, -4.01433696e-02,\n",
       "        -5.55030834e-02, -6.29621858e-01, -5.49473124e-01,\n",
       "        -1.71341852e-01, -2.78534845e-01, -3.33600749e-01],\n",
       "       [-5.58081246e-01, -1.40292035e-01,  9.19856640e-01,\n",
       "         6.10533918e-01,  1.13230892e+00,  1.65950384e+00,\n",
       "         2.44348381e-01,  1.98333024e+00, -3.33600749e-01],\n",
       "       [ 5.24304632e-02,  5.74620799e-01, -4.01433696e-02,\n",
       "         2.77515417e-01, -6.29621858e-01,  7.75913057e-01,\n",
       "        -1.71341852e-01,  1.98333024e+00, -3.33600749e-01],\n",
       "       [ 1.43225341e-01,  1.28953363e+00, -4.01433696e-02,\n",
       "         6.10533918e-01,  4.27536608e-01,  7.75913057e-01,\n",
       "        -1.00272232e+00,  1.01395949e+00,  2.63031360e-01],\n",
       "       [ 1.73744702e-01,  2.17164382e-01,  9.19856640e-01,\n",
       "         1.27657092e+00,  1.83708123e+00,  2.10129924e+00,\n",
       "        -1.71341852e-01,  2.30645382e+00,  8.59663468e-01],\n",
       "       [-8.17184606e-01,  2.00444647e+00,  2.19985665e+00,\n",
       "         2.27562642e+00,  2.54185354e+00,  2.98489003e+00,\n",
       "         2.44348381e-01,  2.30645382e+00,  5.03608823e+00],\n",
       "       [ 5.52565495e-02,  2.17164382e-01, -4.01433696e-02,\n",
       "         2.77515417e-01, -6.29621858e-01,  2.10129924e+00,\n",
       "         2.44348381e-01,  1.98333024e+00, -3.33600749e-01],\n",
       "       [-1.36407455e+00,  2.17164382e-01,  1.55985665e+00,\n",
       "         1.60958942e+00,  2.54185354e+00,  7.75913057e-01,\n",
       "         1.90710931e+00,  2.30645382e+00,  8.59663468e-01],\n",
       "       [-3.28384299e-01,  2.17164382e-01, -4.01433696e-02,\n",
       "        -5.55030834e-02, -6.29621858e-01, -1.07677730e-01,\n",
       "        -1.71341852e-01,  4.45887381e-02,  8.59663468e-01],\n",
       "       [ 1.30851024e-01,  9.32077216e-01, -4.01433696e-02,\n",
       "         2.77515417e-01,  4.27536608e-01, -1.07677730e-01,\n",
       "        -1.71341852e-01, -2.78534845e-01,  3.24619190e+00],\n",
       "       [-7.70204440e-04,  9.32077216e-01,  9.19856640e-01,\n",
       "         9.43552418e-01,  7.51504525e-02, -5.49473124e-01,\n",
       "         1.49141908e+00, -6.01658428e-01, -3.33600749e-01],\n",
       "       [ 1.93319833e-01,  9.32077216e-01,  5.99856637e-01,\n",
       "         2.27562642e+00,  2.54185354e+00,  2.98489003e+00,\n",
       "         2.44348381e-01,  2.30645382e+00,  8.59663468e-01],\n",
       "       [-4.85856734e-01,  2.00444647e+00, -6.80143376e-01,\n",
       "        -7.21540084e-01, -6.29621858e-01, -5.49473124e-01,\n",
       "         6.60038614e-01,  3.67712321e-01, -3.33600749e-01],\n",
       "       [ 3.44661424e-01, -1.40292035e-01,  2.19985665e+00,\n",
       "         2.77515417e-01,  1.48469507e+00, -1.07677730e-01,\n",
       "         2.32279955e+00,  2.30645382e+00, -3.33600749e-01],\n",
       "       [-4.75339306e-01,  1.28953363e+00,  2.19985665e+00,\n",
       "        -5.55030834e-02, -2.77235703e-01,  1.21770845e+00,\n",
       "        -1.71341852e-01,  2.30645382e+00, -3.33600749e-01],\n",
       "       [ 1.80886238e-01,  2.17164382e-01, -4.01433696e-02,\n",
       "        -5.55030834e-02,  7.51504525e-02,  1.21770845e+00,\n",
       "        -1.71341852e-01, -6.01658428e-01, -3.33600749e-01],\n",
       "       [-5.71532942e-01,  2.17164382e-01,  2.19985665e+00,\n",
       "         2.27562642e+00,  7.79922763e-01,  3.34117663e-01,\n",
       "         2.44348381e-01,  3.67712321e-01, -3.33600749e-01],\n",
       "       [ 1.29828476e-01,  1.28953363e+00, -3.60143373e-01,\n",
       "        -5.55030834e-02, -6.29621858e-01,  1.21770845e+00,\n",
       "         1.49141908e+00, -6.01658428e-01, -3.33600749e-01],\n",
       "       [ 2.09391624e-01,  2.00444647e+00,  2.19985665e+00,\n",
       "         2.27562642e+00,  2.54185354e+00, -1.07677730e-01,\n",
       "         2.73848978e+00,  1.01395949e+00, -3.33600749e-01],\n",
       "       [ 2.63485910e-01,  1.64699005e+00,  2.19985665e+00,\n",
       "         2.27562642e+00,  2.54185354e+00,  2.98489003e+00,\n",
       "         2.73848978e+00,  2.30645382e+00, -3.33600749e-01],\n",
       "       [-1.38608008e+00,  1.28953363e+00,  2.79856634e-01,\n",
       "         2.77515417e-01, -6.29621858e-01, -5.49473124e-01,\n",
       "        -1.71341852e-01,  4.45887381e-02, -3.33600749e-01],\n",
       "       [ 3.71465526e-01,  2.17164382e-01,  1.23985664e+00,\n",
       "         2.27562642e+00,  2.54185354e+00,  7.75913057e-01,\n",
       "         2.73848978e+00,  2.30645382e+00, -3.33600749e-01],\n",
       "       [-5.54734993e-01,  2.17164382e-01,  5.99856637e-01,\n",
       "         6.10533918e-01, -2.77235703e-01,  7.75913057e-01,\n",
       "         2.44348381e-01,  4.45887381e-02, -3.33600749e-01],\n",
       "       [-7.75313477e-01,  2.17164382e-01,  2.19985665e+00,\n",
       "         2.27562642e+00,  2.54185354e+00,  2.98489003e+00,\n",
       "         2.73848978e+00, -6.01658428e-01, -3.33600749e-01],\n",
       "       [ 1.28465078e-01, -8.55204868e-01, -4.01433696e-02,\n",
       "         2.77515417e-01,  4.27536608e-01, -5.49473124e-01,\n",
       "        -5.87032085e-01,  6.90835904e-01, -3.33600749e-01],\n",
       "       [ 3.17780260e-01,  2.00444647e+00,  2.19985665e+00,\n",
       "         2.27562642e+00, -6.29621858e-01,  1.21770845e+00,\n",
       "        -5.87032085e-01,  1.66020665e+00, -3.33600749e-01],\n",
       "       [ 1.55742665e-02, -8.55204868e-01,  5.99856637e-01,\n",
       "        -5.55030834e-02,  7.51504525e-02,  1.21770845e+00,\n",
       "         1.49141908e+00,  6.90835904e-01, -3.33600749e-01],\n",
       "       [-7.00365134e-01,  2.00444647e+00,  2.79856634e-01,\n",
       "        -5.55030834e-02,  2.54185354e+00,  3.34117663e-01,\n",
       "         2.73848978e+00, -6.01658428e-01, -3.33600749e-01],\n",
       "       [ 1.65344986e-01,  2.17164382e-01,  5.99856637e-01,\n",
       "         6.10533918e-01,  1.13230892e+00, -1.07677730e-01,\n",
       "        -1.71341852e-01, -6.01658428e-01, -3.33600749e-01],\n",
       "       [ 5.11708023e-02,  2.17164382e-01, -4.01433696e-02,\n",
       "         6.10533918e-01,  7.79922763e-01, -1.07677730e-01,\n",
       "         2.44348381e-01,  2.30645382e+00, -3.33600749e-01],\n",
       "       [-5.76664949e-01,  1.28953363e+00,  9.19856640e-01,\n",
       "         2.77515417e-01,  2.54185354e+00,  2.98489003e+00,\n",
       "        -1.71341852e-01,  6.90835904e-01, -3.33600749e-01],\n",
       "       [ 2.45721727e-01,  2.00444647e+00, -3.60143373e-01,\n",
       "        -3.88521584e-01, -6.29621858e-01, -5.49473124e-01,\n",
       "        -1.00272232e+00, -6.01658428e-01,  2.63031360e-01],\n",
       "       [-3.51811769e-02,  1.28953363e+00,  2.79856634e-01,\n",
       "         6.10533918e-01, -6.29621858e-01, -5.49473124e-01,\n",
       "         1.49141908e+00,  4.45887381e-02, -3.33600749e-01],\n",
       "       [ 3.99638954e-01,  2.17164382e-01,  2.19985665e+00,\n",
       "         2.27562642e+00,  1.83708123e+00,  7.75913057e-01,\n",
       "         1.49141908e+00,  2.30645382e+00, -3.33600749e-01],\n",
       "       [-8.78175906e-01, -1.21266128e+00,  2.79856634e-01,\n",
       "        -5.55030834e-02,  2.54185354e+00,  3.34117663e-01,\n",
       "         6.60038614e-01,  1.01395949e+00, -3.33600749e-01],\n",
       "       [ 3.51840009e-01,  1.64699005e+00,  2.19985665e+00,\n",
       "         2.27562642e+00,  2.54185354e+00,  2.98489003e+00,\n",
       "         2.73848978e+00,  2.30645382e+00,  5.03608823e+00],\n",
       "       [ 4.28385898e-01,  2.00444647e+00,  2.19985665e+00,\n",
       "         2.27562642e+00,  2.54185354e+00,  7.75913057e-01,\n",
       "         2.73848978e+00,  2.30645382e+00,  3.24619190e+00],\n",
       "       [ 3.48339634e-01,  2.17164382e-01,  2.19985665e+00,\n",
       "         2.27562642e+00,  2.54185354e+00,  2.98489003e+00,\n",
       "         2.73848978e+00,  2.30645382e+00,  5.03608823e+00],\n",
       "       [ 1.37460539e-01, -1.40292035e-01,  5.99856637e-01,\n",
       "         6.10533918e-01,  2.54185354e+00,  3.34117663e-01,\n",
       "         1.49141908e+00,  6.90835904e-01,  3.84282401e+00],\n",
       "       [ 1.32882783e-01, -1.21266128e+00,  9.19856640e-01,\n",
       "         1.60958942e+00,  2.54185354e+00,  2.10129924e+00,\n",
       "         6.60038614e-01,  1.33708307e+00, -3.33600749e-01],\n",
       "       [-3.67799830e-01, -1.40292035e-01, -3.60143373e-01,\n",
       "        -5.55030834e-02,  7.79922763e-01, -1.07677730e-01,\n",
       "         1.49141908e+00,  1.01395949e+00, -3.33600749e-01],\n",
       "       [ 1.55392183e-01, -4.97748451e-01,  2.79856634e-01,\n",
       "         6.10533918e-01, -2.77235703e-01,  1.21770845e+00,\n",
       "         2.44348381e-01, -6.01658428e-01, -3.33600749e-01],\n",
       "       [ 2.15267572e-01, -1.40292035e-01, -6.80143376e-01,\n",
       "        -7.21540084e-01,  7.51504525e-02, -9.91268518e-01,\n",
       "        -5.87032085e-01, -6.01658428e-01, -3.33600749e-01],\n",
       "       [ 1.79588047e-01,  2.17164382e-01,  2.19985665e+00,\n",
       "         2.27562642e+00,  7.51504525e-02,  2.10129924e+00,\n",
       "         6.60038614e-01,  2.30645382e+00,  8.59663468e-01],\n",
       "       [-3.68305177e-01, -4.97748451e-01,  2.79856634e-01,\n",
       "         2.77515417e-01,  2.54185354e+00,  7.75913057e-01,\n",
       "        -1.71341852e-01,  4.45887381e-02, -3.33600749e-01],\n",
       "       [ 1.92965646e-01,  2.00444647e+00,  2.19985665e+00,\n",
       "         2.27562642e+00,  1.83708123e+00,  1.21770845e+00,\n",
       "         1.49141908e+00,  2.30645382e+00, -3.33600749e-01],\n",
       "       [ 1.30387173e-01,  2.17164382e-01,  9.19856640e-01,\n",
       "         9.43552418e-01, -2.77235703e-01,  3.34117663e-01,\n",
       "        -1.71341852e-01,  1.01395949e+00, -3.33600749e-01],\n",
       "       [ 3.22667744e-01,  2.00444647e+00, -4.01433696e-02,\n",
       "         2.77515417e-01,  7.79922763e-01, -1.07677730e-01,\n",
       "         2.44348381e-01, -6.01658428e-01, -3.33600749e-01],\n",
       "       [ 5.24067519e-02,  1.64699005e+00,  2.19985665e+00,\n",
       "         2.27562642e+00, -6.29621858e-01,  2.98489003e+00,\n",
       "        -1.71341852e-01,  4.45887381e-02, -3.33600749e-01],\n",
       "       [ 5.89910737e-02,  1.28953363e+00, -4.01433696e-02,\n",
       "         1.60958942e+00,  7.51504525e-02,  3.34117663e-01,\n",
       "         1.90710931e+00,  1.98333024e+00,  3.84282401e+00],\n",
       "       [-2.22689115e-02,  2.17164382e-01, -3.60143373e-01,\n",
       "        -5.55030834e-02,  4.27536608e-01, -5.49473124e-01,\n",
       "        -1.71341852e-01,  1.01395949e+00, -3.33600749e-01],\n",
       "       [ 1.73944766e-01,  2.00444647e+00,  1.55985665e+00,\n",
       "         2.27562642e+00,  2.54185354e+00,  1.21770845e+00,\n",
       "        -1.71341852e-01, -6.01658428e-01,  5.03608823e+00],\n",
       "       [-7.96097882e-01,  5.74620799e-01, -6.80143376e-01,\n",
       "        -5.55030834e-02, -6.29621858e-01,  3.34117663e-01,\n",
       "         6.60038614e-01,  2.30645382e+00, -3.33600749e-01],\n",
       "       [ 2.21436946e-01,  2.00444647e+00,  2.19985665e+00,\n",
       "         2.27562642e+00,  7.51504525e-02,  2.98489003e+00,\n",
       "         2.32279955e+00,  2.30645382e+00, -3.33600749e-01],\n",
       "       [ 1.34994568e-01,  1.28953363e+00,  9.19856640e-01,\n",
       "         2.77515417e-01,  7.51504525e-02,  7.75913057e-01,\n",
       "        -1.71341852e-01, -6.01658428e-01, -3.33600749e-01],\n",
       "       [-1.21107465e+00,  2.17164382e-01,  2.19985665e+00,\n",
       "         2.27562642e+00,  1.13230892e+00,  2.98489003e+00,\n",
       "         2.73848978e+00,  1.01395949e+00,  2.05292768e+00],\n",
       "       [-3.87719516e-02,  9.32077216e-01, -4.01433696e-02,\n",
       "        -3.88521584e-01,  2.54185354e+00,  7.75913057e-01,\n",
       "         6.60038614e-01,  3.67712321e-01,  1.45629558e+00],\n",
       "       [-5.77246616e-02,  2.17164382e-01, -4.01433696e-02,\n",
       "        -5.55030834e-02,  7.51504525e-02, -5.49473124e-01,\n",
       "         2.44348381e-01,  3.67712321e-01, -3.33600749e-01],\n",
       "       [ 4.91316335e-02,  1.64699005e+00,  5.99856637e-01,\n",
       "         6.10533918e-01, -2.77235703e-01, -5.49473124e-01,\n",
       "         6.60038614e-01, -6.01658428e-01, -3.33600749e-01],\n",
       "       [ 1.41058724e-01,  2.17164382e-01,  2.79856634e-01,\n",
       "         9.43552418e-01,  1.48469507e+00,  2.54309463e+00,\n",
       "         1.90710931e+00,  2.30645382e+00, -3.33600749e-01],\n",
       "       [-7.10578761e-01,  2.00444647e+00,  2.79856634e-01,\n",
       "         2.77515417e-01,  1.13230892e+00, -5.49473124e-01,\n",
       "        -5.87032085e-01,  4.45887381e-02, -3.33600749e-01],\n",
       "       [ 9.92839217e-02,  2.17164382e-01,  2.19985665e+00,\n",
       "         9.43552418e-01, -6.29621858e-01,  2.98489003e+00,\n",
       "         2.44348381e-01,  2.30645382e+00,  5.03608823e+00],\n",
       "       [-3.82231099e-01,  1.28953363e+00,  2.19985665e+00,\n",
       "         2.27562642e+00,  2.54185354e+00,  1.21770845e+00,\n",
       "         2.73848978e+00,  2.30645382e+00,  5.03608823e+00],\n",
       "       [ 4.85047670e-02,  2.17164382e-01, -3.60143373e-01,\n",
       "        -5.55030834e-02, -6.29621858e-01,  1.21770845e+00,\n",
       "         6.60038614e-01, -6.01658428e-01, -3.33600749e-01],\n",
       "       [ 3.23366485e-02,  2.17164382e-01,  9.19856640e-01,\n",
       "         6.10533918e-01,  1.13230892e+00,  2.98489003e+00,\n",
       "        -1.71341852e-01, -6.01658428e-01, -3.33600749e-01],\n",
       "       [ 5.01830799e-03,  5.74620799e-01, -4.01433696e-02,\n",
       "        -3.88521584e-01, -6.29621858e-01, -1.07677730e-01,\n",
       "         2.44348381e-01, -6.01658428e-01, -3.33600749e-01],\n",
       "       [ 6.26989226e-02,  5.74620799e-01,  2.19985665e+00,\n",
       "        -3.88521584e-01,  1.83708123e+00,  2.98489003e+00,\n",
       "         1.49141908e+00,  1.66020665e+00,  5.03608823e+00]])"
      ]
     },
     "execution_count": 209,
     "metadata": {},
     "output_type": "execute_result"
    }
   ],
   "source": [
    "svcmodel.support_vectors_"
   ]
  },
  {
   "cell_type": "code",
   "execution_count": null,
   "metadata": {},
   "outputs": [],
   "source": []
  }
 ],
 "metadata": {
  "kernelspec": {
   "display_name": "base",
   "language": "python",
   "name": "python3"
  },
  "language_info": {
   "codemirror_mode": {
    "name": "ipython",
    "version": 3
   },
   "file_extension": ".py",
   "mimetype": "text/x-python",
   "name": "python",
   "nbconvert_exporter": "python",
   "pygments_lexer": "ipython3",
   "version": "3.8.8"
  },
  "orig_nbformat": 4,
  "vscode": {
   "interpreter": {
    "hash": "786a8f24896a62ef3d17c3b642ccc3bdf5d973e95fa787b24a7054a58848c2af"
   }
  }
 },
 "nbformat": 4,
 "nbformat_minor": 2
}
