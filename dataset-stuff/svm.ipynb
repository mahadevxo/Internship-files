{
 "cells": [
  {
   "cell_type": "code",
   "execution_count": 188,
   "metadata": {},
   "outputs": [],
   "source": [
    "import pandas as pd\n",
    "import numpy as np\n",
    "import matplotlib.pyplot as plt\n",
    "from sklearn.model_selection import train_test_split\n",
    "from sklearn.svm import SVC\n",
    "from sklearn.metrics import accuracy_score\n",
    "from sklearn.metrics import confusion_matrix\n",
    "from sklearn.preprocessing import StandardScaler\n",
    "from sklearn.preprocessing import LabelEncoder\n",
    "from sklearn.model_selection import GridSearchCV\n",
    "from sklearn.model_selection import RandomizedSearchCV\n",
    "from sklearn.linear_model import LogisticRegression"
   ]
  },
  {
   "cell_type": "code",
   "execution_count": 204,
   "metadata": {},
   "outputs": [],
   "source": [
    "dataset = pd.read_csv(\"processed.cleveland.data.csv\")\n",
    "dataset.replace('?', np.nan, inplace=True)\n",
    "dataset.dropna(axis = 1,inplace=True)"
   ]
  },
  {
   "cell_type": "code",
   "execution_count": 205,
   "metadata": {},
   "outputs": [],
   "source": [
    "datatype = dataset.apply(lambda s: pd.to_numeric(s, errors='coerce').notnull().all())\n",
    "newdata = []\n",
    "for data in datatype:\n",
    "    newdata.append(datatype[1])\n",
    "datatype = newdata"
   ]
  },
  {
   "cell_type": "code",
   "execution_count": 206,
   "metadata": {},
   "outputs": [],
   "source": [
    "le = LabelEncoder()\n",
    "for i in range(len(datatype)):\n",
    "    if datatype[i] == False:\n",
    "        dataset.iloc[:,i] = le.fit_transform(dataset.iloc[:,i])"
   ]
  },
  {
   "attachments": {},
   "cell_type": "markdown",
   "metadata": {},
   "source": [
    "> Training"
   ]
  },
  {
   "cell_type": "code",
   "execution_count": 238,
   "metadata": {},
   "outputs": [],
   "source": [
    "sc = StandardScaler()\n",
    "param = {'kernel': ['poly', 'linear'], 'C': [1, 10], 'degree': [1, 2, 3, 4, 5, 6, 7, 8, 9, 10], 'gamma': ['scale', 'auto']}\n",
    "clf = GridSearchCV(SVC(probability=True), param, cv=5, refit=True)\n",
    "#61.5%, worse then svm\n"
   ]
  },
  {
   "cell_type": "code",
   "execution_count": 234,
   "metadata": {},
   "outputs": [],
   "source": [
    "clf = SVC(kernel='poly', degree = 5, C=10, gamma='scale', probability=True)\n",
    "#91.7% accuracy"
   ]
  },
  {
   "cell_type": "code",
   "execution_count": 230,
   "metadata": {},
   "outputs": [],
   "source": [
    "clf = LogisticRegression(solver='saga', tol=1e-2, max_iter=200, random_state=0)\n",
    "#59.9%, worse than SVM"
   ]
  },
  {
   "cell_type": "code",
   "execution_count": 211,
   "metadata": {},
   "outputs": [],
   "source": [
    "x = dataset.iloc[:, :-1]\n",
    "y = dataset.iloc[:,dataset.shape[1]-1]\n",
    "x = sc.fit_transform(x)"
   ]
  },
  {
   "cell_type": "code",
   "execution_count": 239,
   "metadata": {},
   "outputs": [],
   "source": [
    "x = dataset.iloc[:, :-1]\n",
    "y = dataset.iloc[:,dataset.shape[1]-1]\n",
    "x = sc.fit_transform(x)\n",
    "clf = clf.fit(x, y)"
   ]
  },
  {
   "attachments": {},
   "cell_type": "markdown",
   "metadata": {},
   "source": [
    "> Testing"
   ]
  },
  {
   "cell_type": "code",
   "execution_count": 240,
   "metadata": {},
   "outputs": [
    {
     "name": "stdout",
     "output_type": "stream",
     "text": [
      "[1 1 0 0 0 0 0 0 3 0 0 0 0 0 0 0 0 0 0 0 0 0 0 1 0 0 0 0 1 0 2 0 0 0 0 1 1\n",
      " 2 2 0 0 0 0 0 0 0 3 0 0 0 0 0 0 1 3 0 0 0 0 0 0 1 0 0 1 0 0 3 0 0 0 2 0 0\n",
      " 0 1 0 0 1 1 0 0 2 0 0 0 0 0 0 0 3 0 0 0 0 1 0 0 0 0 0 0 0 0 0 0 0 2 0 0 3\n",
      " 0 3 0 0 0 0 2 3 3 2 0 3 0 0 3 2 0 0 0 0 0 0 0 0 2 0 1 0 0 0 0 2 0 0 3 0 0\n",
      " 0 0 0 0 1 3 2 0 0 0 0 0 1 0 0 0 0 0 0 1 0 2 1 0 0 1 2 0 1 0 0 0 2 0 0 0 0\n",
      " 0 0 0 0 0 2 3 2 0 1 0 0 0 0 0 0 0 0 0 1 1 1 0 0 0 0 0 2 0 0 0 0 0 0 0 0 0\n",
      " 2 0 0 0 0 1 1 0 2 0 0 0 3 3 0 0 0 0 0 0 0 0 2 0 1 0 0 1 2 1 0 0 0 0 0 0 0\n",
      " 0 0 0 0 1 2 2 2 0 0 1 1 2 0 0 0 0 0 0 0 2 0 0 0 0 2 3 0 0 0 0 0 1 1 0 0 3\n",
      " 0 0 2 1 0 0]\n"
     ]
    }
   ],
   "source": [
    "ypred = clf.predict(x)\n",
    "print(ypred)"
   ]
  },
  {
   "cell_type": "code",
   "execution_count": 241,
   "metadata": {},
   "outputs": [
    {
     "name": "stdout",
     "output_type": "stream",
     "text": [
      "Accuracy: 61.58940397350994\n"
     ]
    }
   ],
   "source": [
    "accuracy = (accuracy_score(y, ypred))*100\n",
    "print(\"Accuracy:\", accuracy)"
   ]
  },
  {
   "cell_type": "code",
   "execution_count": 198,
   "metadata": {},
   "outputs": [
    {
     "name": "stdout",
     "output_type": "stream",
     "text": [
      "[[499   1]\n",
      " [ 94 174]]\n"
     ]
    }
   ],
   "source": [
    "cm = confusion_matrix(y, ypred)\n",
    "print(cm)"
   ]
  },
  {
   "cell_type": "code",
   "execution_count": null,
   "metadata": {},
   "outputs": [],
   "source": []
  }
 ],
 "metadata": {
  "kernelspec": {
   "display_name": "base",
   "language": "python",
   "name": "python3"
  },
  "language_info": {
   "codemirror_mode": {
    "name": "ipython",
    "version": 3
   },
   "file_extension": ".py",
   "mimetype": "text/x-python",
   "name": "python",
   "nbconvert_exporter": "python",
   "pygments_lexer": "ipython3",
   "version": "3.8.8"
  },
  "orig_nbformat": 4,
  "vscode": {
   "interpreter": {
    "hash": "786a8f24896a62ef3d17c3b642ccc3bdf5d973e95fa787b24a7054a58848c2af"
   }
  }
 },
 "nbformat": 4,
 "nbformat_minor": 2
}
